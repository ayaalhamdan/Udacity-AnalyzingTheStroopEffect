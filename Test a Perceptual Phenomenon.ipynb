{
 "cells": [
  {
   "cell_type": "markdown",
   "metadata": {},
   "source": [
    "### Analyzing the Stroop Effect\n",
    "Perform the analysis in the space below. Remember to follow [the instructions](https://docs.google.com/document/d/1-OkpZLjG_kX9J6LIQ5IltsqMzVWjh36QpnP2RYpVdPU/pub?embedded=True) and review the [project rubric](https://review.udacity.com/#!/rubrics/71/view) before submitting. Once you've completed the analysis and write-up, download this file as a PDF or HTML file, upload that PDF/HTML into the workspace here (click on the orange Jupyter icon in the upper left then Upload), then use the Submit Project button at the bottom of this page. This will create a zip file containing both this .ipynb doc and the PDF/HTML doc that will be submitted for your project.\n",
    "\n",
    "\n",
    "**(1) What is the independent variable? What is the dependent variable?**"
   ]
  },
  {
   "cell_type": "markdown",
   "metadata": {},
   "source": [
    ">- Independent variable: The words and colors that are changing throughout the experiment.     \n",
    "- Dependant variable: Time spent reading the words."
   ]
  },
  {
   "cell_type": "markdown",
   "metadata": {},
   "source": [
    "**(2) What is an appropriate set of hypotheses for this task? Specify your null and alternative hypotheses, and clearly define any notation used. Justify your choices.**"
   ]
  },
  {
   "cell_type": "markdown",
   "metadata": {},
   "source": [
    "> **The null hypotheses** ($H_{0}$): Time spent reading the incongruent words (where words don't match the color) will not be longer than the time spent reading the congruent words (no statistically significant difference).    \n",
    "**The alternative hypotheses** ($H_{1}$): Participants will spend more time reading the incongruent words (increase in time).   \n",
    "- $H_{0}$:  $μI$ ≤ $μC$    \n",
    "- $H_{1}$:  $μI$ > $μC$  \n",
    "Where:     \n",
    "$μI$ is the response time mean of the incongruent population    \n",
    "$μC$ is the response time mean of the congruent population"
   ]
  },
  {
   "cell_type": "markdown",
   "metadata": {},
   "source": [
    "> A **dependent t-test** will be conducted since the sample set is less than 30, and we need to determine whether there is a significant difference between the means of the two groups.    \n",
    "* **assumption**: The alternative hypotheses is correct, so that there is a statistically significant difference in the time spent reading the incongruent words."
   ]
  },
  {
   "cell_type": "markdown",
   "metadata": {},
   "source": [
    "(3) Report some descriptive statistics regarding this dataset. Include at least one measure of central tendency and at least one measure of variability. The name of the data file is 'stroopdata.csv'."
   ]
  },
  {
   "cell_type": "code",
   "execution_count": 3,
   "metadata": {},
   "outputs": [
    {
     "data": {
      "text/html": [
       "<div>\n",
       "<style>\n",
       "    .dataframe thead tr:only-child th {\n",
       "        text-align: right;\n",
       "    }\n",
       "\n",
       "    .dataframe thead th {\n",
       "        text-align: left;\n",
       "    }\n",
       "\n",
       "    .dataframe tbody tr th {\n",
       "        vertical-align: top;\n",
       "    }\n",
       "</style>\n",
       "<table border=\"1\" class=\"dataframe\">\n",
       "  <thead>\n",
       "    <tr style=\"text-align: right;\">\n",
       "      <th></th>\n",
       "      <th>Congruent</th>\n",
       "      <th>Incongruent</th>\n",
       "    </tr>\n",
       "  </thead>\n",
       "  <tbody>\n",
       "    <tr>\n",
       "      <th>count</th>\n",
       "      <td>24.000000</td>\n",
       "      <td>24.000000</td>\n",
       "    </tr>\n",
       "    <tr>\n",
       "      <th>mean</th>\n",
       "      <td>14.051125</td>\n",
       "      <td>22.015917</td>\n",
       "    </tr>\n",
       "    <tr>\n",
       "      <th>std</th>\n",
       "      <td>3.559358</td>\n",
       "      <td>4.797057</td>\n",
       "    </tr>\n",
       "    <tr>\n",
       "      <th>min</th>\n",
       "      <td>8.630000</td>\n",
       "      <td>15.687000</td>\n",
       "    </tr>\n",
       "    <tr>\n",
       "      <th>25%</th>\n",
       "      <td>11.895250</td>\n",
       "      <td>18.716750</td>\n",
       "    </tr>\n",
       "    <tr>\n",
       "      <th>50%</th>\n",
       "      <td>14.356500</td>\n",
       "      <td>21.017500</td>\n",
       "    </tr>\n",
       "    <tr>\n",
       "      <th>75%</th>\n",
       "      <td>16.200750</td>\n",
       "      <td>24.051500</td>\n",
       "    </tr>\n",
       "    <tr>\n",
       "      <th>max</th>\n",
       "      <td>22.328000</td>\n",
       "      <td>35.255000</td>\n",
       "    </tr>\n",
       "  </tbody>\n",
       "</table>\n",
       "</div>"
      ],
      "text/plain": [
       "       Congruent  Incongruent\n",
       "count  24.000000    24.000000\n",
       "mean   14.051125    22.015917\n",
       "std     3.559358     4.797057\n",
       "min     8.630000    15.687000\n",
       "25%    11.895250    18.716750\n",
       "50%    14.356500    21.017500\n",
       "75%    16.200750    24.051500\n",
       "max    22.328000    35.255000"
      ]
     },
     "execution_count": 3,
     "metadata": {},
     "output_type": "execute_result"
    }
   ],
   "source": [
    "# Perform the analysis here\n",
    "\n",
    "import pandas as pd\n",
    "import numpy as np\n",
    "import matplotlib.pyplot as plt\n",
    "%matplotlib inline\n",
    "\n",
    "df = pd.read_csv(\"stroopdata.csv\")\n",
    "df.describe()"
   ]
  },
  {
   "cell_type": "markdown",
   "metadata": {},
   "source": [
    "> There are 24 participants that participated in both groups (Congruent & Incongruent).    \n",
    "- The **Congruent sample** has a mean of **14.05s** while the **Incongruent sample** has a mean of **22.02s**. This shows that when there is a mismatch between the words and the colors, participants take more time to name the color.    \n",
    "- The standard deviation of the **Congruent sample** is **3.56** and for the **Incongruent sample** it's **4.8**."
   ]
  },
  {
   "cell_type": "markdown",
   "metadata": {},
   "source": [
    "(4) Provide one or two visualizations that show the distribution of the sample data. Write one or two sentences noting what you observe about the plot or plots."
   ]
  },
  {
   "cell_type": "code",
   "execution_count": 4,
   "metadata": {},
   "outputs": [
    {
     "data": {
      "image/png": "[encoded data removed]",
      "text/plain": [
       "<matplotlib.figure.Figure at 0x7fb948bff780>"
      ]
     },
     "metadata": {
      "needs_background": "light"
     },
     "output_type": "display_data"
    }
   ],
   "source": [
    "# Build the visualizations here\n",
    "df.boxplot(sym = 'r+', widths = 0.3);\n",
    "plt.title('Congruent vs Incongruent boxplot')\n",
    "plt.xlabel('Sample')\n",
    "plt.ylabel('Time (s)');"
   ]
  },
  {
   "cell_type": "markdown",
   "metadata": {},
   "source": [
    "> From the boxplot above, we can see that **the median of the Incongruent sapmle is higher than the Congruent**. Also, there are two obvious outliers in the Incongruent sapmle."
   ]
  },
  {
   "cell_type": "markdown",
   "metadata": {},
   "source": [
    "(5)  Now, perform the statistical test and report your results. What is your confidence level or Type I error associated with your test? What is your conclusion regarding the hypotheses you set up? Did the results match up with your expectations? **Hint:**  Think about what is being measured on each individual, and what statistic best captures how an individual reacts in each environment."
   ]
  },
  {
   "cell_type": "code",
   "execution_count": 110,
   "metadata": {},
   "outputs": [],
   "source": [
    "# Perform the statistical test here\n",
    "import scipy.stats as stats\n",
    "\n",
    "# Calculate the degree of freedom\n",
    "k = 24 - 1\n",
    "\n",
    "# Define alpha value\n",
    "alpha = 0.05\n",
    "\n",
    "# Calculate the mean difference\n",
    "inc_mean = df['Incongruent'].mean()\n",
    "con_mean = df['Congruent'].mean()\n",
    "\n",
    "mean_diff = inc_mean - con_mean\n",
    "\n",
    "\n",
    "# Standard deviation of Incongruent from df.describe()\n",
    "sdv = 4.797057\n",
    "\n",
    "# Calculate standard error of the difference\n",
    "se = sdv / 24**(1/2)\n",
    "\n",
    "# Calculate t-statistic \n",
    "tstat = mean_diff / se\n",
    "\n",
    "# Find t-critical and p-value\n",
    "tc = stats.t.ppf(df = k, q = alpha)\n",
    "p = 1 - (stats.t.cdf(x = tstat, df = k))"
   ]
  },
  {
   "cell_type": "code",
   "execution_count": 111,
   "metadata": {},
   "outputs": [
    {
     "name": "stdout",
     "output_type": "stream",
     "text": [
      "t-statistic = 8.134018624712999\n",
      "t-critical = -1.7138715277470478\n",
      "p-value = 0.0000000161\n"
     ]
    }
   ],
   "source": [
    "print(\"t-statistic = {}\\nt-critical = {}\\np-value = {:0.10f}\".format(tstat,tc,p))"
   ]
  },
  {
   "cell_type": "markdown",
   "metadata": {},
   "source": [
    "> - The **confidence = 95%** , therefore alpha = 0.05. We can find the t-critical value in the t-distribution table using the values alpha(0.05) and df(23) which shows that t-statistic value is greater than the critical value.    \n",
    "- The value of **p is < 0.0001** which means that there is a statistically significant difference between the two samples.    \n",
    "> ### Conclusion    \n",
    "The null hypothesis is rejected, as the incongruent words does take more time response. Hence there is a statistically significant difference between the two samples as expected."
   ]
  },
  {
   "cell_type": "markdown",
   "metadata": {},
   "source": [
    "(6) Optional: What do you think is responsible for the effects observed? Can you think of an alternative or similar task that would result in a similar effect? Some research about the problem will be helpful for thinking about these two questions!"
   ]
  },
  {
   "cell_type": "markdown",
   "metadata": {},
   "source": [
    "> I think that people tend to read the words while trying to pronounce the colors subconsciously which can be confusing and cause the difference in response time.    \n",
    "A similar task that would result in a similar effect would be having pictures of an object shaped like another object and making participants pronounce the object in the pictures. For example, a couple of tree pictures shaped or cropped like a bicycle and the participants should say the word \"tree\"."
   ]
  },
  {
   "cell_type": "markdown",
   "metadata": {},
   "source": [
    "#### References\n",
    "Udacity statistics Lesson 33    \n",
    "Stack overflow    \n",
    "https://support.minitab.com/en-us/minitab-express/1/help-and-how-to/basic-statistics/inference/supporting-topics/tests-of-means/types-of-t-tests/    \n",
    "https://www.statisticshowto.datasciencecentral.com/one-sample-t-test/    \n",
    "https://docs.scipy.org/doc/scipy/reference/stats.html    \n",
    "https://docs.scipy.org/doc/scipy/reference/generated/scipy.stats.t.html#scipy.stats.t    \n",
    "https://matplotlib.org/api/_as_gen/matplotlib.pyplot.boxplot.html    \n"
   ]
  }
 ],
 "metadata": {
  "kernelspec": {
   "display_name": "Python [default]",
   "language": "python",
   "name": "python3"
  },
  "language_info": {
   "codemirror_mode": {
    "name": "ipython",
    "version": 3
   },
   "file_extension": ".py",
   "mimetype": "text/x-python",
   "name": "python",
   "nbconvert_exporter": "python",
   "pygments_lexer": "ipython3",
   "version": "3.7.0"
  }
 },
 "nbformat": 4,
 "nbformat_minor": 2
}
